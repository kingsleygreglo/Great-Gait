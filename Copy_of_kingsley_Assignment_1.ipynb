{
  "nbformat": 4,
  "nbformat_minor": 0,
  "metadata": {
    "colab": {
      "provenance": [],
      "authorship_tag": "ABX9TyN8snHrlnmnF1XWDZzo3Oyi",
      "include_colab_link": true
    },
    "kernelspec": {
      "name": "python3",
      "display_name": "Python 3"
    },
    "language_info": {
      "name": "python"
    }
  },
  "cells": [
    {
      "cell_type": "markdown",
      "metadata": {
        "id": "view-in-github",
        "colab_type": "text"
      },
      "source": [
        "<a href=\"https://colab.research.google.com/github/UNB-TME-6017-W24/assignment-1-kingsleygreglo/blob/main/Copy_of_kingsley_Assignment_1.ipynb\" target=\"_parent\"><img src=\"https://colab.research.google.com/assets/colab-badge.svg\" alt=\"Open In Colab\"/></a>"
      ]
    },
    {
      "cell_type": "markdown",
      "source": [],
      "metadata": {
        "id": "GfA82PO7c3Gr"
      }
    },
    {
      "cell_type": "markdown",
      "source": [
        "i,\n",
        "\n",
        "tf.keras.layers.Conv2D:\n",
        "This layer creates a convolution kernel that is convolved with the layer input to produce a tensor of outputs. for example. If use_bias is True, a bias vector is created and added to the outputs. Finally, if activation is not None, it is applied to the outputs as well. when this layer happes to be the first layer in a model, provide the keyword argument input_shape (tuple of integers or None, does not include the sample axis), e.g. input_shape=(128, 128, 3) for 128x128 RGB pictures in data_format=\"channels_last\". You can use None when a dimension has variable size. further more, this layer performs a 2D convolution operation and used in Convolutional Neural Networks (CNNs) for image processing, classification, and other image-related tasks. This layer filters the input image to learn features like textures edges, and shapes.\n",
        "\n",
        "Use case: in image processing, it will take an input tensor and applies some convolution filters to it. this will help the model learn to recognize various features in the images. examples of such features are: Key options include filters (number of output filters in the convolution), kernel_size (specifying the height and width of the 2D convolution window), strides, padding (either 'valid' or 'same'), and activation (like 'relu'). You can also set use_bias and provide a kernel_initializer.\n",
        "Example:\n",
        "tf.keras.layers.Conv2D(filters=32, kernel_size=(3, 3), activation='relu', input_shape=(28, 28, 1))\n",
        "\n",
        "ii,\n",
        "\n",
        "tf.keras.layers.MaxPooling2D.\n",
        "This layer is used for downsampling the spatial dimensions (width, height) of the input by taking the maximum value over an input window (of size defined by pool_size) for each channel of the input. The window is shifted by strides along each dimension. It helps reduce the computational load, memory usage, and also controls overfitting by providing an abstracted form of the representation.\n",
        "\n",
        "Use case: It operates on each feature map independently to resize it spatially using the maximum value in each window of size defined by pool_size.\n",
        "Options available: Key parameters include pool_size (size of the pooling window), strides, and padding. Typically, pool_size is (2, 2).\n",
        "Example:\n",
        "tf.keras.layers.MaxPooling2D(pool_size=(2, 2))\n",
        "\n",
        "iii,\n",
        "\n",
        "tf.keras.layers.Dropout\n",
        "\n",
        "The Dropout layer applies Dropout to the input by randomly setting input units to 0 with a frequency of rate at each step during training time, which helps prevent overfitting. Inputs not set to 0 are scaled up by 1/(1 - rate) such that the sum over all inputs is unchanged. Dropout layer only applies when training is set to True such that no values are dropped during inference. When using model.fit, training will be appropriately set to True automatically, and in other contexts, you can set the kwarg explicitly to True when calling the layer. This is in contrast to setting trainable=False for a Dropout layer. trainable does not affect the layer's behavior, as Dropout does not have any variables/weights that can be frozen during training.\n",
        "\n",
        "Use case: It is used in between dense or convolutional layers. The rate parameter determines the dropout rate.\n",
        "Options available: The main parameter is rate, which is a float between 0 and 1 and represents the fraction of the input units to drop.\n",
        "Example:\n",
        "tf.keras.layers.Dropout(0.5)\n",
        "\n",
        "iv\n",
        "\n",
        "tf.keras.layers.Flatten\n",
        "\n",
        "This layer flattens the input without affecting its batch size. It's used to convert multi-dimensional inputs into a single dimension, which is often required before passing data to a Dense layer.\n",
        "\n",
        "Use case: Commonly used in CNNs after convolutional and pooling layers to flatten the feature maps.\n",
        "Options available: It doesn’t have parameters to set except for data_format which is optional.\n",
        "Example: tf.keras.layers.Flatten()\n",
        "\n",
        "v,\n",
        "\n",
        "tf.keras.layers.Dense\n",
        "\n",
        "Dense layer is a regular densely-connected neural network layer. It's most commonly used layer that finds use in almost all neural networks for different tasks.\n",
        "Use case: It receives input from all neurons of the previous layer, thus 'densely connected'. It's mainly used for output layers, regression tasks, or intermediate layers.\n",
        "Options available: Key parameters include units (number of neurons), activation (like 'relu', 'sigmoid', 'softmax'), use_bias, and kernel_initializer.\n",
        "Example:tf.keras.layers.Dense(units=64, activation='relu')\n",
        "Each of these layers plays a critical role in building neural network architectures in TensorFlow, particularly for tasks involving image data and deep learning."
      ],
      "metadata": {
        "id": "E4rujU0VXT1W"
      }
    },
    {
      "cell_type": "markdown",
      "source": [],
      "metadata": {
        "id": "ULROjxs9cnQH"
      }
    },
    {
      "cell_type": "code",
      "execution_count": 6,
      "metadata": {
        "id": "CP_3U6fFUl9P"
      },
      "outputs": [],
      "source": [
        "import numpy as np\n",
        "import tensorflow as tf\n",
        "import matplotlib.pyplot as plt\n",
        "from tensorflow.keras.datasets import mnist\n",
        "from tensorflow.keras.utils import to_categorical\n",
        "from tensorflow.keras.models import Sequential\n",
        "from tensorflow.keras.layers import Conv2D, MaxPooling2D, Dropout,Flatten,Dense"
      ]
    },
    {
      "cell_type": "markdown",
      "source": [
        "These libraries were impoted to have my libraries loaded and can easily identify challenges"
      ],
      "metadata": {
        "id": "qjzsQPPoVg_-"
      }
    },
    {
      "cell_type": "code",
      "source": [
        "#Loading and Preprocessing the Dataset\n",
        "(x_train, y_train), (x_test, y_test) = mnist.load_data()"
      ],
      "metadata": {
        "colab": {
          "base_uri": "https://localhost:8080/"
        },
        "id": "6SokmUNhVx9d",
        "outputId": "e030ccfa-999e-46a3-f9d5-d96161a91ae2"
      },
      "execution_count": 7,
      "outputs": [
        {
          "output_type": "stream",
          "name": "stdout",
          "text": [
            "Downloading data from https://storage.googleapis.com/tensorflow/tf-keras-datasets/mnist.npz\n",
            "11490434/11490434 [==============================] - 1s 0us/step\n"
          ]
        }
      ]
    },
    {
      "cell_type": "markdown",
      "source": [
        "loading the MNIST dataset and preparing for preprocessing"
      ],
      "metadata": {
        "id": "fb1sn44OWy9i"
      }
    },
    {
      "cell_type": "code",
      "source": [],
      "metadata": {
        "id": "5M5F4VBBWx3s"
      },
      "execution_count": 7,
      "outputs": []
    },
    {
      "cell_type": "code",
      "source": [
        "# Normalize the pixel values of the images to the range [0, 1]\n",
        "x_train = x_train.astype('float32') / 255\n",
        "x_test = x_test.astype('float32') / 255"
      ],
      "metadata": {
        "id": "07QuLi1PWZL2"
      },
      "execution_count": 8,
      "outputs": []
    },
    {
      "cell_type": "code",
      "source": [
        "# Reshape dataset to have a single channel\n",
        "x_train = x_train.reshape((x_train.shape[0], 28, 28, 1))\n",
        "x_test = x_test.reshape((x_test.shape[0], 28, 28, 1))"
      ],
      "metadata": {
        "id": "YpxAe-atW_42"
      },
      "execution_count": 9,
      "outputs": []
    },
    {
      "cell_type": "markdown",
      "source": [
        "reshaping the data set"
      ],
      "metadata": {
        "id": "TdfUmFsHXCPd"
      }
    },
    {
      "cell_type": "markdown",
      "source": [
        "# Convert class vectors to binary class matrices (one-hot encoding)"
      ],
      "metadata": {
        "id": "8va38kjOXRqk"
      }
    },
    {
      "cell_type": "code",
      "source": [
        "(x_train, y_train), (x_test, y_test) = mnist.load_data()\n",
        "y_train = to_categorical(y_train, 10)\n",
        "y_test = to_categorical(y_test, 10)"
      ],
      "metadata": {
        "id": "FTEMNxhs_HpJ"
      },
      "execution_count": 10,
      "outputs": []
    },
    {
      "cell_type": "markdown",
      "source": [
        "# 3 Build the CNN Model"
      ],
      "metadata": {
        "id": "XS7cQWoM_gaG"
      }
    },
    {
      "cell_type": "code",
      "source": [
        "from tensorflow.keras.models import Sequential\n",
        "from tensorflow.keras.layers import Conv2D, MaxPooling2D, Dropout, Flatten, Dense\n",
        "\n",
        "model = Sequential([\n",
        "    Conv2D(32, kernel_size=(3, 3), activation='relu', input_shape=(28, 28, 1)),\n",
        "    MaxPooling2D(pool_size=(2, 2)),\n",
        "    Dropout(0.25),\n",
        "    Conv2D(64, (3, 3), activation='relu'),\n",
        "    MaxPooling2D(pool_size=(2, 2)),\n",
        "    Dropout(0.25),\n",
        "    Flatten(),\n",
        "    Dense(128, activation='relu'),\n",
        "    Dropout(0.5),\n",
        "    Dense(10, activation='softmax')\n",
        "])"
      ],
      "metadata": {
        "id": "tp5ZTtwt_pEK"
      },
      "execution_count": 11,
      "outputs": []
    },
    {
      "cell_type": "markdown",
      "source": [
        "# Compilation"
      ],
      "metadata": {
        "id": "loKEeqJ7_2N3"
      }
    },
    {
      "cell_type": "code",
      "source": [
        "model.compile(optimizer='adam', loss='categorical_crossentropy', metrics=['accuracy'])"
      ],
      "metadata": {
        "id": "dLEwiEWPAR_x"
      },
      "execution_count": 12,
      "outputs": []
    },
    {
      "cell_type": "markdown",
      "source": [
        "#Train and Test the Model\n",
        "Training:"
      ],
      "metadata": {
        "id": "3JN4pQ89AXXp"
      }
    },
    {
      "cell_type": "code",
      "source": [
        "batch_size = 128\n",
        "epochs = 10\n",
        "history = model.fit(x_train, y_train, batch_size=batch_size, epochs=epochs, validation_data=(x_test, y_test))"
      ],
      "metadata": {
        "colab": {
          "base_uri": "https://localhost:8080/"
        },
        "id": "3CCVEY_QBE3X",
        "outputId": "7b85f4ac-cd3e-4ecd-fb91-0906869b97ca"
      },
      "execution_count": 13,
      "outputs": [
        {
          "output_type": "stream",
          "name": "stdout",
          "text": [
            "Epoch 1/10\n",
            "469/469 [==============================] - 51s 107ms/step - loss: 1.7259 - accuracy: 0.5457 - val_loss: 0.1678 - val_accuracy: 0.9523\n",
            "Epoch 2/10\n",
            "469/469 [==============================] - 49s 105ms/step - loss: 0.3584 - accuracy: 0.8936 - val_loss: 0.0880 - val_accuracy: 0.9751\n",
            "Epoch 3/10\n",
            "469/469 [==============================] - 49s 105ms/step - loss: 0.2207 - accuracy: 0.9367 - val_loss: 0.0598 - val_accuracy: 0.9820\n",
            "Epoch 4/10\n",
            "469/469 [==============================] - 49s 104ms/step - loss: 0.1698 - accuracy: 0.9520 - val_loss: 0.0518 - val_accuracy: 0.9849\n",
            "Epoch 5/10\n",
            "469/469 [==============================] - 49s 104ms/step - loss: 0.1422 - accuracy: 0.9592 - val_loss: 0.0453 - val_accuracy: 0.9857\n",
            "Epoch 6/10\n",
            "469/469 [==============================] - 50s 106ms/step - loss: 0.1287 - accuracy: 0.9633 - val_loss: 0.0402 - val_accuracy: 0.9867\n",
            "Epoch 7/10\n",
            "469/469 [==============================] - 49s 104ms/step - loss: 0.1135 - accuracy: 0.9685 - val_loss: 0.0380 - val_accuracy: 0.9885\n",
            "Epoch 8/10\n",
            "469/469 [==============================] - 50s 106ms/step - loss: 0.0999 - accuracy: 0.9710 - val_loss: 0.0395 - val_accuracy: 0.9886\n",
            "Epoch 9/10\n",
            "469/469 [==============================] - 49s 105ms/step - loss: 0.0936 - accuracy: 0.9732 - val_loss: 0.0346 - val_accuracy: 0.9897\n",
            "Epoch 10/10\n",
            "469/469 [==============================] - 49s 105ms/step - loss: 0.0889 - accuracy: 0.9746 - val_loss: 0.0332 - val_accuracy: 0.9896\n"
          ]
        }
      ]
    },
    {
      "cell_type": "markdown",
      "source": [
        "# Evaluation"
      ],
      "metadata": {
        "id": "Rg9Kfi60BPk9"
      }
    },
    {
      "cell_type": "code",
      "source": [
        "test_loss, test_accuracy = model.evaluate(x_test, y_test)\n",
        "print(f\"Test accuracy: {test_accuracy}\")"
      ],
      "metadata": {
        "colab": {
          "base_uri": "https://localhost:8080/"
        },
        "id": "sj4xnWcHBVOp",
        "outputId": "6f686f18-5fc1-4761-cf8d-db40a4890f6f"
      },
      "execution_count": 14,
      "outputs": [
        {
          "output_type": "stream",
          "name": "stdout",
          "text": [
            "313/313 [==============================] - 2s 8ms/step - loss: 0.0332 - accuracy: 0.9896\n",
            "Test accuracy: 0.9896000027656555\n"
          ]
        }
      ]
    },
    {
      "cell_type": "markdown",
      "source": [
        "# 5. Analysis and Reporting\n",
        "# Plot training & validation accuracy values"
      ],
      "metadata": {
        "id": "KrG9i42WBchY"
      }
    },
    {
      "cell_type": "code",
      "source": [
        "plt.plot(history.history['accuracy'])\n",
        "plt.plot(history.history['val_accuracy'])\n",
        "plt.title('Model accuracy')\n",
        "plt.ylabel('Accuracy')\n",
        "plt.xlabel('Epoch')\n",
        "plt.legend(['Train', 'Test'], loc='upper left')\n",
        "plt.show()\n"
      ],
      "metadata": {
        "colab": {
          "base_uri": "https://localhost:8080/",
          "height": 472
        },
        "id": "GhYvU4V_BgOF",
        "outputId": "bf45b1e7-43d5-4182-b0b1-5b270918617b"
      },
      "execution_count": 15,
      "outputs": [
        {
          "output_type": "display_data",
          "data": {
            "text/plain": [
              "<Figure size 640x480 with 1 Axes>"
            ],
            "image/png": "[encoded data removed]"
          },
          "metadata": {}
        }
      ]
    },
    {
      "cell_type": "markdown",
      "source": [
        "# Plot training & validation loss values"
      ],
      "metadata": {
        "id": "ARQ9tt-pBxJ6"
      }
    },
    {
      "cell_type": "code",
      "source": [
        "plt.plot(history.history['loss'])\n",
        "plt.plot(history.history['val_loss'])\n",
        "plt.title('Model loss')\n",
        "plt.ylabel('Loss')\n",
        "plt.xlabel('Epoch')\n",
        "plt.legend(['Train', 'Test'], loc='upper left')\n",
        "plt.show()"
      ],
      "metadata": {
        "colab": {
          "base_uri": "https://localhost:8080/",
          "height": 472
        },
        "id": "YrhrCRIrByTc",
        "outputId": "1be0c398-bd65-4d25-cdac-f62ed8f7f350"
      },
      "execution_count": 16,
      "outputs": [
        {
          "output_type": "display_data",
          "data": {
            "text/plain": [
              "<Figure size 640x480 with 1 Axes>"
            ],
            "image/png": "[encoded data removed]"
          },
          "metadata": {}
        }
      ]
    }
  ]
}